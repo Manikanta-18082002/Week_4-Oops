{
 "cells": [
  {
   "cell_type": "markdown",
   "id": "75d8e3ff",
   "metadata": {},
   "source": [
    "Q1. Explain Class and Object with respect to Object-Oriented Programming. Give a suitable example."
   ]
  },
  {
   "cell_type": "code",
   "execution_count": 5,
   "id": "d8bf3fb6",
   "metadata": {},
   "outputs": [],
   "source": [
    "# Class\n",
    "\n",
    "#Class is like a blue print, and it is a user-defined datatype.\n",
    "\n",
    "#Ex:  class demo:\n",
    "\n",
    "\n",
    "# Object:\n",
    "#Object is an instance of the class. Which is used to represent the Real-World objects,and it is used to call obj, methods, attributes\n",
    "\n",
    "# Ex: class demo:\n",
    "#         def test(self):\n",
    "#             print(\"Hai\")\n",
    "            \n",
    "#     obj = demo()\n",
    "#     obj.test()\n"
   ]
  },
  {
   "cell_type": "code",
   "execution_count": null,
   "id": "5ab3680a",
   "metadata": {},
   "outputs": [],
   "source": []
  },
  {
   "cell_type": "markdown",
   "id": "7cebe80e",
   "metadata": {},
   "source": [
    "Q2. Name the four pillars of OOPs."
   ]
  },
  {
   "cell_type": "code",
   "execution_count": 6,
   "id": "4ae78519",
   "metadata": {},
   "outputs": [],
   "source": [
    "# Abstraction\n",
    "# Encapsulation\n",
    "# Inheritance\n",
    "# Polymorphism"
   ]
  },
  {
   "cell_type": "code",
   "execution_count": null,
   "id": "d70cd6c6",
   "metadata": {},
   "outputs": [],
   "source": []
  },
  {
   "cell_type": "markdown",
   "id": "aea06004",
   "metadata": {},
   "source": [
    "Q3. Explain why the __init__() function is used. Give a suitable example."
   ]
  },
  {
   "cell_type": "code",
   "execution_count": 9,
   "id": "cb155f8d",
   "metadata": {},
   "outputs": [
    {
     "name": "stdout",
     "output_type": "stream",
     "text": [
      "Mani\n"
     ]
    },
    {
     "data": {
      "text/plain": [
       "21"
      ]
     },
     "execution_count": 9,
     "metadata": {},
     "output_type": "execute_result"
    }
   ],
   "source": [
    "#init is like a constructor , is to assign the values to the data members of the class when an object of the class is created\n",
    "\n",
    "class Student:\n",
    "    def __init__(self, name, age):\n",
    "        self.name=name\n",
    "        self.age = age\n",
    "        \n",
    "obj = Student(\"Mani\", 21)\n",
    "\n",
    "print(obj.name)\n",
    "obj.age\n"
   ]
  },
  {
   "cell_type": "code",
   "execution_count": null,
   "id": "70379ebd",
   "metadata": {},
   "outputs": [],
   "source": []
  },
  {
   "cell_type": "markdown",
   "id": "4772d524",
   "metadata": {},
   "source": [
    "Q4. Why self is used in OOPs?"
   ]
  },
  {
   "cell_type": "code",
   "execution_count": null,
   "id": "89ce61e4",
   "metadata": {},
   "outputs": [],
   "source": [
    "# Self is not a keyword in python \n",
    "# By using the self we can access the attributes and methods of the class in Python.\n",
    "# It binds the attributes with the given arguments.\n",
    "# Self represents the instance of the class."
   ]
  },
  {
   "cell_type": "code",
   "execution_count": null,
   "id": "434b84c6",
   "metadata": {},
   "outputs": [],
   "source": []
  },
  {
   "cell_type": "markdown",
   "id": "1d7f998a",
   "metadata": {},
   "source": [
    "Q5. What is inheritance? Give an example for each type of inheritance."
   ]
  },
  {
   "cell_type": "code",
   "execution_count": 10,
   "id": "a6cee478",
   "metadata": {},
   "outputs": [],
   "source": [
    "# Inheritance is a method through which one new class is derived from the existing ones.\n",
    "# The new class derived is called a derived class / Child Class.\n",
    "# The current class is termed a Parent / base class."
   ]
  },
  {
   "cell_type": "code",
   "execution_count": 33,
   "id": "0cd5587f",
   "metadata": {},
   "outputs": [
    {
     "name": "stdout",
     "output_type": "stream",
     "text": [
      "Single Inheritance: \n",
      "\n",
      "In Parent Class\n",
      "In Child  inherits Parent Class\n"
     ]
    }
   ],
   "source": [
    "#Single Inheritance\n",
    "\n",
    "class Parent: #Base Class\n",
    "    def display1(self):\n",
    "        print(\"In Parent Class\")\n",
    "        \n",
    "\n",
    "class child(Parent): #Child Class\n",
    "    def display2(self):\n",
    "        print(\"In Child  inherits Parent Class\")\n",
    "        \n",
    "        \n",
    "print(\"Single Inheritance: \")\n",
    "print()\n",
    "obj = child()\n",
    "obj.display1()\n",
    "obj.display2()"
   ]
  },
  {
   "cell_type": "code",
   "execution_count": null,
   "id": "0ef9d385",
   "metadata": {},
   "outputs": [],
   "source": []
  },
  {
   "cell_type": "code",
   "execution_count": 32,
   "id": "627aee58",
   "metadata": {},
   "outputs": [
    {
     "name": "stdout",
     "output_type": "stream",
     "text": [
      "Multilevel Inheritance: \n",
      "\n",
      "In Parent Class\n",
      "In Child_1 inherits Parent Class\n",
      "In Child_2 inherits from Child_2 Class\n"
     ]
    }
   ],
   "source": [
    "#Multilevel Inheritance\n",
    "\n",
    "class Parent: #Base Class\n",
    "    def display1(self):\n",
    "        print(\"In Parent Class\")\n",
    "        \n",
    "\n",
    "class child_1(Parent): #Child_1 Class\n",
    "    def display2(self):\n",
    "        print(\"In Child_1 inherits Parent Class\")\n",
    "        \n",
    "\n",
    "class child_2(child_1): #Child_2 Class\n",
    "    def display3(self):\n",
    "        print(\"In Child_2 inherits from Child_2 Class\")\n",
    "        \n",
    "       \n",
    "\n",
    "print(\"Multilevel Inheritance: \")\n",
    "print()\n",
    "obj = child_2()\n",
    "obj.display1()\n",
    "obj.display2()\n",
    "obj.display3()\n"
   ]
  },
  {
   "cell_type": "code",
   "execution_count": null,
   "id": "3aa0940a",
   "metadata": {},
   "outputs": [],
   "source": []
  },
  {
   "cell_type": "code",
   "execution_count": 31,
   "id": "d91fac57",
   "metadata": {},
   "outputs": [
    {
     "name": "stdout",
     "output_type": "stream",
     "text": [
      "Multiple Inheritance: \n",
      "\n",
      "In Parent_1 Class\n",
      "In Parent_2 Class\n",
      "In Child Class inherits from both Parents\n"
     ]
    }
   ],
   "source": [
    "#Multiple Inheritance\n",
    "\n",
    "class Parent1: #Base_1 Class\n",
    "    def display1(self):\n",
    "        print(\"In Parent_1 Class\")\n",
    "        \n",
    "\n",
    "class Parent2: #Base_2 Class\n",
    "    def display2(self):\n",
    "        print(\"In Parent_2 Class\")\n",
    "        \n",
    "\n",
    "class child(Parent1, Parent2): #Child Class\n",
    "    def display3(self):\n",
    "        print(\"In Child Class inherits from both Parents\")\n",
    "        \n",
    "\n",
    "print(\"Multiple Inheritance: \")\n",
    "print()\n",
    "obj = child()\n",
    "\n",
    "obj.display1()\n",
    "obj.display2()\n",
    "obj.display3()"
   ]
  },
  {
   "cell_type": "code",
   "execution_count": null,
   "id": "92c65ca4",
   "metadata": {},
   "outputs": [],
   "source": []
  },
  {
   "cell_type": "code",
   "execution_count": 30,
   "id": "36e9e770",
   "metadata": {},
   "outputs": [
    {
     "name": "stdout",
     "output_type": "stream",
     "text": [
      "Hybrid Inheritance: \n",
      "\n",
      "In Parent Class\n",
      "In Child_1 Class\n",
      "In Child_2 Class\n",
      "In Child_3 Inherites Child_1, Child_2 Class\n"
     ]
    }
   ],
   "source": [
    "#Hybrid Inheritance\n",
    "\n",
    "#Multilevel Inheritance\n",
    "\n",
    "class Parent: #Base Class\n",
    "    def display1(self):\n",
    "        print(\"In Parent Class\")\n",
    "        \n",
    "\n",
    "class child_1(Parent): #Child_1 Class\n",
    "    def display2(self):\n",
    "        print(\"In Child_1 Class\")\n",
    "        \n",
    "\n",
    "class child_2(Parent): #Child_2 Class\n",
    "    def display3(self):\n",
    "        print(\"In Child_2 Class\")\n",
    "        \n",
    "\n",
    "        \n",
    "class child_3(child_1, child_2): #Child_3 Class\n",
    "    def display4(self):\n",
    "        print(\"In Child_3 Inherites Child_1, Child_2 Class\")\n",
    "        \n",
    "       \n",
    "\n",
    "print(\"Hybrid Inheritance: \")\n",
    "print()\n",
    "obj = child_3()\n",
    "obj.display1()\n",
    "obj.display2()\n",
    "obj.display3()\n",
    "obj.display4()\n"
   ]
  },
  {
   "cell_type": "code",
   "execution_count": null,
   "id": "77fa5db4",
   "metadata": {},
   "outputs": [],
   "source": []
  },
  {
   "cell_type": "code",
   "execution_count": null,
   "id": "cb23e317",
   "metadata": {},
   "outputs": [],
   "source": []
  }
 ],
 "metadata": {
  "kernelspec": {
   "display_name": "Python 3 (ipykernel)",
   "language": "python",
   "name": "python3"
  },
  "language_info": {
   "codemirror_mode": {
    "name": "ipython",
    "version": 3
   },
   "file_extension": ".py",
   "mimetype": "text/x-python",
   "name": "python",
   "nbconvert_exporter": "python",
   "pygments_lexer": "ipython3",
   "version": "3.11.4"
  }
 },
 "nbformat": 4,
 "nbformat_minor": 5
}
